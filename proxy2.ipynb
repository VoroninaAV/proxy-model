{
 "cells": [
  {
   "cell_type": "code",
   "execution_count": 223,
   "metadata": {},
   "outputs": [],
   "source": [
    "import pandas as pd\n",
    "from typing import List\n",
    "from scipy.linalg import lstsq\n",
    "import numpy as np\n",
    "import matplotlib.pyplot as plt\n",
    "df = pd.read_excel('files/smspecs_yearly.xlsx', sheet_name=None,  index_col=0)\n",
    "class Variant:\n",
    "    __slots__ = ['full_name', 'dates', '_df', '_trendC00', '_r2']\n",
    "    @classmethod\n",
    "    def from_xls_smspecs_yearly(cls, df, key):\n",
    "        obj = cls()\n",
    "        obj.full_name = key\n",
    "        # obj.name =int(key.split('-')[0],base=2)\n",
    "        obj.dates = [9999 if line=='xxxx' else int(line) for line in key.split('-')[1:]]\n",
    "        obj._df = df / 10**9\n",
    "        obj._trendC00 = None\n",
    "        obj._r2 = None\n",
    "        return obj\n",
    "    @property\n",
    "    def name(self) -> int: return int(self.full_name.split('-')[0],base=2)\n",
    "    def __repr__(self) -> str:\n",
    "        return '\\n'.join([\n",
    "            repr(self._df),\n",
    "            f'name={self.name:03b} dates={self.dates}'\n",
    "        ]) \n",
    "    @property\n",
    "    def get_trend(self)->List[float]:\n",
    "        if self._trendC00 is None:\n",
    "            deg = 4\n",
    "            x_ar = self._df['total'].to_numpy()\n",
    "            y_ar = self._df['yearly'].to_numpy()\n",
    "            a_matrix = np.vstack([[v ** p for p in range(deg+1)] for v in x_ar])\n",
    "            self._trendC00, resid=  lstsq(a_matrix, y_ar)[:2]\n",
    "            self._r2 = 1 - resid / (y_ar.size / y_ar.var())\n",
    "        return self._trendC00\n",
    "    @property\n",
    "    def r2(self)->float:\n",
    "        if self._r2 is None:\n",
    "            self.get_trend\n",
    "        return self._r2\n",
    "    def get_trend_val(self, val:float)->float:\n",
    "        return sum([val ** ind * c00 for ind, c00 in enumerate(self.get_trend)])\n",
    "    def show(self):\n",
    "        fig, ax = plt.subplots()\n",
    "        ax.plot(self._df.total, self._df.yearly, '.')\n",
    "        x_arr = np.linspace(self._df.total.min(), self._df.total.max(), 20)\n",
    "        ax.plot(x_arr, [ self.get_trend_val(x) for x in x_arr])\n",
    "        plt.show()\n",
    "base_var = Variant.from_xls_smspecs_yearly(df['000-xxxx-xxxx-xxxx'],'000-xxxx-xxxx-xxxx') \n",
    "arr_vars = [\n",
    "    Variant.from_xls_smspecs_yearly(df[key],key)\n",
    "    for key in filter(lambda k: k != '000-xxxx-xxxx-xxxx', df.keys() )]\n",
    "\n",
    "# base_var"
   ]
  },
  {
   "cell_type": "code",
   "execution_count": 224,
   "metadata": {},
   "outputs": [],
   "source": [
    "\n",
    "\n",
    "class Proxy:\n",
    "    __slots__ = ['base_Variant', 'arr_Variant']\n",
    "    def __init__(self, base_Variant:Variant, arr_Variant:List[Variant]) -> None:\n",
    "        self.base_Variant = base_Variant\n",
    "        self.arr_Variant = arr_Variant\n",
    "    def get_dq(self, var_full_name:str)->pd.DataFrame:        \n",
    "        var =  next(filter(lambda x: x.full_name == var_full_name,self.arr_Variant))\n",
    "        total = self.base_Variant._df.total\n",
    "        min_date = min(var.dates)        \n",
    "        yearly_base = self.base_Variant._df.yearly\n",
    "        res = {\n",
    "            'total': total,\n",
    "            # 'dq' :  np.array([\n",
    "                # base_val if date.year < min_date else var_val\n",
    "            # for base_val, var_val, date in zip(yearly_base, var._df.yearly, self.base_Variant._df.index)]) - yearly_base\n",
    "            'dq': np.array([\n",
    "                yearly if date.year < min_date else var.get_trend_val(v)\n",
    "            for date, v, yearly in zip(var._df.index, total, yearly_base)]) - yearly_base #FIXME отрефакторить всю херню\n",
    "        }\n",
    "        df_res =  pd.DataFrame(res)\n",
    "        return df_res[df_res['dq'] > 0]\n",
    "    def get_var_by_name(self,name:int)->pd.DataFrame: return next(filter(lambda x: x.name == name,self.arr_Variant))\n",
    "    def show(self): \n",
    "        fig, axs = plt.subplots(nrows=3, figsize=(10, 20))\n",
    "        for ax, num in zip(axs,[1,2,4]):\n",
    "            for var in filter(lambda var: var.name in [num], self.arr_Variant):            \n",
    "                df = self.get_dq(var.full_name)\n",
    "                line, = ax.plot(df.total, df.dq, 'o-')\n",
    "                line.set_label(var.full_name)\n",
    "        axs[0].legend()\n",
    "        axs[1].legend()\n",
    "        axs[2].legend()\n",
    "        plt.show()\n",
    "        \n",
    "p = Proxy(base_var, arr_vars)\n",
    "\n",
    "# p.show()"
   ]
  },
  {
   "cell_type": "code",
   "execution_count": 225,
   "metadata": {},
   "outputs": [
    {
     "name": "stdout",
     "output_type": "stream",
     "text": [
      "           R2                vars\n",
      "54   0.914876  101-2013-xxxx-2019\n",
      "164  0.968039  111-2015-2015-2015\n",
      "173  0.648047  111-2016-2013-2013\n",
      "174  0.779473  111-2016-2013-2016\n",
      "187  0.695422  111-2016-2017-2017\n"
     ]
    },
    {
     "data": {
      "image/png": "[encoded data removed]",
      "text/plain": [
       "<Figure size 640x480 with 1 Axes>"
      ]
     },
     "metadata": {},
     "output_type": "display_data"
    },
    {
     "data": {
      "text/plain": [
       "0.9970152624381594"
      ]
     },
     "execution_count": 225,
     "metadata": {},
     "output_type": "execute_result"
    }
   ],
   "source": [
    "df = pd.DataFrame({\n",
    "    'R2':[var.r2 for var in p.arr_Variant],\n",
    "    'vars':[var.full_name for var in p.arr_Variant]\n",
    "    })\n",
    "print(df[df.R2 < .97])\n",
    "\n",
    "var = next(filter(lambda var: var.full_name == \"010-xxxx-2017-xxxx\", p.arr_Variant))\n",
    "var.show()\n",
    "var.r2\n"
   ]
  }
 ],
 "metadata": {
  "kernelspec": {
   "display_name": "Python 3.8.1 ('.venv': venv)",
   "language": "python",
   "name": "python3"
  },
  "language_info": {
   "codemirror_mode": {
    "name": "ipython",
    "version": 3
   },
   "file_extension": ".py",
   "mimetype": "text/x-python",
   "name": "python",
   "nbconvert_exporter": "python",
   "pygments_lexer": "ipython3",
   "version": "3.8.1"
  },
  "orig_nbformat": 4,
  "vscode": {
   "interpreter": {
    "hash": "6867585beada23e38cc6f9ff340875e80f09797bc71f2dd26f1cc01d5c2b5e15"
   }
  }
 },
 "nbformat": 4,
 "nbformat_minor": 2
}
