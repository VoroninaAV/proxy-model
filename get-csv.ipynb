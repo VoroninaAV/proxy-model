{
 "cells": [
  {
   "cell_type": "code",
   "execution_count": null,
   "metadata": {},
   "outputs": [],
   "source": [
    "import pandas as pd\n",
    "from os.path import join\n",
    "from typing import List, Dict\n",
    "from datetime import datetime\n",
    "import pathlib\n",
    "from binreader.binread import MySmspec\n",
    "\n",
    "pd.set_option('display.width', 1000)\n",
    "pd.set_option('display.max_columns',10)\n",
    "\n",
    "def read_smspecs(folder: str) -> Dict[str, MySmspec]:\n",
    "    '''data = daily or yearly'''\n",
    "    dir = pathlib.Path(folder)\n",
    "    # эталонная выборка\n",
    "    res=dict()\n",
    "    for file in dir.rglob('result.smspec'): \n",
    "        key=file.parts[-2]\n",
    "        type = int(key[:3], 2)\n",
    "        smspec = MySmspec(file)\n",
    "        res[key]=smspec\n",
    "    return res"
   ]
  },
  {
   "cell_type": "code",
   "execution_count": null,
   "metadata": {},
   "outputs": [],
   "source": [
    "# получаем смспеки, работает около 2 минут. с переменой класса MySmspec удобно работать\n",
    "# в переменой smspecs Dict[str, MySmspec] str==название папки\n",
    "smspecs=read_smspecs('tnav_results')"
   ]
  },
  {
   "cell_type": "code",
   "execution_count": null,
   "metadata": {},
   "outputs": [],
   "source": [
    "# работает невероятно долго, и получаются не очень красивые csv c огромнымм количеством колонок (WGNAMES.count()*KEYWORDS.count() штук)\n",
    "import os \n",
    "dir='files/csv'\n",
    "if not os.path.exists(dir):\n",
    "    os.makedirs(dir) \n",
    "for key in list(smspecs.keys()):\n",
    "    keywords=smspecs[key].get_all_keywords\n",
    "    wgnames=smspecs[key].get_all_groups+smspecs[key].get_all_wells\n",
    "    # wgnames=['FIELD']\n",
    "    df=smspecs[key].get_main(keywords, wgnames)\n",
    "    df.to_csv(f'{dir}/{key}.csv')"
   ]
  },
  {
   "cell_type": "code",
   "execution_count": null,
   "metadata": {},
   "outputs": [],
   "source": [
    "# работает чуть быстрее, все тоже самое\n",
    "import os \n",
    "dir='files/csv'\n",
    "if not os.path.exists(dir):\n",
    "    os.makedirs(dir) \n",
    "for key in list(smspecs.keys()):\n",
    "    keywords=smspecs[key].get_all_keywords\n",
    "    wgnames=smspecs[key].get_all_groups+smspecs[key].get_all_wells\n",
    "    df=smspecs[key].get_data\n",
    "    # wgnames=['FIELD']\n",
    "    df = smspecs[key].get_data.loc[smspecs[key].get_data[\"KEYWORDS\"].isin(keywords) & smspecs[key].get_data[\"WGNAMES\"].isin(wgnames)]\n",
    "    cols=(df['WGNAMES']+':'+df['KEYWORDS']+'('+df['UNITS']+')').to_list()\n",
    "    df=df.iloc[:, 4:].T\n",
    "    df.columns=cols\n",
    "    df.index=smspecs[key].get_all_dates\n",
    "    df.to_csv(f'{dir}/{key}.csv')"
   ]
  }
 ],
 "metadata": {
  "kernelspec": {
   "display_name": "Python 3",
   "language": "python",
   "name": "python3"
  },
  "language_info": {
   "codemirror_mode": {
    "name": "ipython",
    "version": 3
   },
   "file_extension": ".py",
   "mimetype": "text/x-python",
   "name": "python",
   "nbconvert_exporter": "python",
   "pygments_lexer": "ipython3",
   "version": "3.10.6"
  },
  "orig_nbformat": 4,
  "vscode": {
   "interpreter": {
    "hash": "9424d8ede043529b70294f04a23dcad50dcb6cc4e19d8621b7029ddfd15e0126"
   }
  }
 },
 "nbformat": 4,
 "nbformat_minor": 2
}
