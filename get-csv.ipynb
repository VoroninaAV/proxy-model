{
 "cells": [
  {
   "cell_type": "code",
   "execution_count": 1,
   "metadata": {},
   "outputs": [],
   "source": [
    "import pandas as pd\n",
    "from os.path import join\n",
    "from typing import List, Dict\n",
    "from datetime import datetime\n",
    "import pathlib\n",
    "from binreader.binread import MySmspec\n",
    "\n",
    "pd.set_option('display.width', 1000)\n",
    "pd.set_option('display.max_columns',10)\n",
    "\n",
    "def read_smspecs(folder: str) -> Dict[str, MySmspec]:\n",
    "    '''data = daily or yearly'''\n",
    "    dir = pathlib.Path(folder)\n",
    "    # эталонная выборка\n",
    "    res=dict()\n",
    "    for file in dir.rglob('result.smspec'): \n",
    "        key=file.parts[-2]\n",
    "        type = int(key[:3], 2)\n",
    "        smspec = MySmspec(file)\n",
    "        res[key]=smspec\n",
    "    return res"
   ]
  },
  {
   "cell_type": "code",
   "execution_count": 2,
   "metadata": {},
   "outputs": [],
   "source": [
    "# получаем смспеки, работает около 2 минут. с переменой класса MySmspec удобно работать\n",
    "# в переменой smspecs Dict[str, MySmspec] str==название папки\n",
    "smspecs=read_smspecs('tnav_results')"
   ]
  },
  {
   "cell_type": "code",
   "execution_count": null,
   "metadata": {},
   "outputs": [],
   "source": [
    "# работает невероятно долго, и получаются не очень красивые csv c огромнымм количеством колонок (WGNAMES.count()*KEYWORDS.count() штук)\n",
    "import os \n",
    "dir='files/csv'\n",
    "if not os.path.exists(dir):\n",
    "    os.makedirs(dir) \n",
    "for key in list(smspecs.keys()):\n",
    "    keywords=smspecs[key].get_all_keywords\n",
    "    wgnames=smspecs[key].get_all_groups+smspecs[key].get_all_wells\n",
    "    # wgnames=['FIELD']\n",
    "    df=smspecs[key].get_main(keywords, wgnames, use_units=False)\n",
    "    df.to_csv(f'{dir}/{key}.csv')"
   ]
  },
  {
   "cell_type": "code",
   "execution_count": 1,
   "metadata": {},
   "outputs": [
    {
     "ename": "NameError",
     "evalue": "name 'smspecs' is not defined",
     "output_type": "error",
     "traceback": [
      "\u001b[1;31m---------------------------------------------------------------------------\u001b[0m",
      "\u001b[1;31mNameError\u001b[0m                                 Traceback (most recent call last)",
      "Cell \u001b[1;32mIn [1], line 6\u001b[0m\n\u001b[0;32m      4\u001b[0m \u001b[39mif\u001b[39;00m \u001b[39mnot\u001b[39;00m os\u001b[39m.\u001b[39mpath\u001b[39m.\u001b[39mexists(\u001b[39mdir\u001b[39m):\n\u001b[0;32m      5\u001b[0m     os\u001b[39m.\u001b[39mmakedirs(\u001b[39mdir\u001b[39m) \n\u001b[1;32m----> 6\u001b[0m \u001b[39mfor\u001b[39;00m key \u001b[39min\u001b[39;00m \u001b[39mlist\u001b[39m(smspecs\u001b[39m.\u001b[39mkeys()):\n\u001b[0;32m      7\u001b[0m     keywords\u001b[39m=\u001b[39msmspecs[key]\u001b[39m.\u001b[39mget_all_keywords\n\u001b[0;32m      8\u001b[0m     wgnames\u001b[39m=\u001b[39msmspecs[key]\u001b[39m.\u001b[39mget_all_groups\u001b[39m+\u001b[39msmspecs[key]\u001b[39m.\u001b[39mget_all_wells\n",
      "\u001b[1;31mNameError\u001b[0m: name 'smspecs' is not defined"
     ]
    }
   ],
   "source": [
    "# работает чуть быстрее, все тоже самое\n",
    "import os \n",
    "dir='files/csv'\n",
    "if not os.path.exists(dir):\n",
    "    os.makedirs(dir) \n",
    "for key in list(smspecs.keys()):\n",
    "    keywords=smspecs[key].get_all_keywords\n",
    "    wgnames=smspecs[key].get_all_groups+smspecs[key].get_all_wells\n",
    "    # wgnames=['FIELD']\n",
    "    df = df.loc[df[\"KEYWORDS\"].isin(keywords) & df[\"WGNAMES\"].isin(wgnames)]\n",
    "    cols=(df['WGNAMES']+':'+df['KEYWORDS']+'('+df['UNITS']+')').to_list()\n",
    "    df=df.iloc[:, 4:].T\n",
    "    df.columns=cols\n",
    "    df.index=smspecs[key].get_all_dates\n",
    "    df.to_csv(f'{dir}/{key}.csv')"
   ]
  }
 ],
 "metadata": {
  "kernelspec": {
   "display_name": "Python 3",
   "language": "python",
   "name": "python3"
  },
  "language_info": {
   "codemirror_mode": {
    "name": "ipython",
    "version": 3
   },
   "file_extension": ".py",
   "mimetype": "text/x-python",
   "name": "python",
   "nbconvert_exporter": "python",
   "pygments_lexer": "ipython3",
   "version": "3.10.6"
  },
  "orig_nbformat": 4,
  "vscode": {
   "interpreter": {
    "hash": "9424d8ede043529b70294f04a23dcad50dcb6cc4e19d8621b7029ddfd15e0126"
   }
  }
 },
 "nbformat": 4,
 "nbformat_minor": 2
}
