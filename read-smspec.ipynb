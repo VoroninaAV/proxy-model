{
 "cells": [
  {
   "cell_type": "code",
   "execution_count": 18,
   "metadata": {},
   "outputs": [],
   "source": [
    "import pandas as pd\n",
    "from os.path import join\n",
    "from typing import List, Dict\n",
    "from datetime import datetime\n",
    "import pathlib\n",
    "from binreader.binread import MySmspec\n",
    "\n",
    "pd.set_option('display.width', 1000)\n",
    "pd.set_option('display.max_columns',10)\n",
    "\n",
    "def read_smspecs(folder: str, data: str) -> Dict[str, MySmspec]:\n",
    "    '''data = daily or yearly'''\n",
    "    dir = pathlib.Path(folder)\n",
    "    # эталонная выборка\n",
    "    res=dict()\n",
    "    for file in dir.rglob('result.smspec'): \n",
    "        key=file.parts[-2]\n",
    "        type = int(key[:3], 2)\n",
    "        smspec = MySmspec(file)\n",
    "        df = smspec.get_main(['FGPT', 'FGPR' ], ['FIELD'])\n",
    "        if data=='yearly':\n",
    "            df = df[(df.index.month==1) & (df.index.day==1)]\n",
    "        df = pd.DataFrame({\n",
    "            # 'date' : df.index, \n",
    "            'total' : df[\"FIELD: FGPT(SM3)\"], \n",
    "             data : df[\"FIELD: FGPT(SM3)\"].shift(-1)-df[\"FIELD: FGPT(SM3)\"] if data=='yearly' else df[\"FIELD: FGPR(SM3/DAY)\"]\n",
    "        })\n",
    "        df=df[df[data].notna()]\n",
    "        if len(df)>0:\n",
    "            res[key]=df\n",
    "    return res"
   ]
  },
  {
   "cell_type": "code",
   "execution_count": 20,
   "metadata": {},
   "outputs": [
    {
     "name": "stderr",
     "output_type": "stream",
     "text": [
      "c:\\Users\\A_Voronina\\AppData\\Local\\Programs\\Python\\Python310\\lib\\site-packages\\xlsxwriter\\workbook.py:339: UserWarning: Calling close() on already closed file.\n",
      "  warn(\"Calling close() on already closed file.\")\n",
      "c:\\Users\\A_Voronina\\AppData\\Local\\Programs\\Python\\Python310\\lib\\site-packages\\xlsxwriter\\workbook.py:339: UserWarning: Calling close() on already closed file.\n",
      "  warn(\"Calling close() on already closed file.\")\n"
     ]
    }
   ],
   "source": [
    "# формируем файлы из смспеков\n",
    "smspecs=read_smspecs(r'tnav_results', 'daily')\n",
    "with pd.ExcelWriter(path = 'files/smspecs_full.xlsx') as writer:\n",
    "    for key in smspecs:\n",
    "        smspecs[key].to_excel(writer, sheet_name=key)\n",
    "    writer.save()\n",
    "    \n",
    "smspecs=read_smspecs(r'tnav_results', 'yearly')\n",
    "with pd.ExcelWriter(path = 'files/smspecs_yearly.xlsx') as writer:\n",
    "    for key in smspecs:\n",
    "        smspecs[key].to_excel(writer, sheet_name=key)\n",
    "    writer.save()\n",
    "    "
   ]
  },
  {
   "cell_type": "code",
   "execution_count": 21,
   "metadata": {},
   "outputs": [],
   "source": [
    "import os\n",
    "dir = pathlib.Path('tnav_results')\n",
    "for file in dir.rglob('*.*'): \n",
    "    if file.name not in ['result.SMSPEC', 'result.UNSMRY']:\n",
    "        os.remove(file)"
   ]
  }
 ],
 "metadata": {
  "kernelspec": {
   "display_name": "Python 3",
   "language": "python",
   "name": "python3"
  },
  "language_info": {
   "codemirror_mode": {
    "name": "ipython",
    "version": 3
   },
   "file_extension": ".py",
   "mimetype": "text/x-python",
   "name": "python",
   "nbconvert_exporter": "python",
   "pygments_lexer": "ipython3",
   "version": "3.10.6"
  },
  "orig_nbformat": 4,
  "vscode": {
   "interpreter": {
    "hash": "9424d8ede043529b70294f04a23dcad50dcb6cc4e19d8621b7029ddfd15e0126"
   }
  }
 },
 "nbformat": 4,
 "nbformat_minor": 2
}
